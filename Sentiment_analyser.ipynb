{
 "cells": [
  {
   "cell_type": "markdown",
   "metadata": {},
   "source": [
    "# Imports and load data"
   ]
  },
  {
   "cell_type": "code",
   "execution_count": 152,
   "metadata": {},
   "outputs": [],
   "source": [
    "import pandas as pd\n",
    "import nltk\n",
    "from IPython.display import display\n",
    "pd.set_option('display.max_columns', None)\n",
    "pd.set_option('display.max_colwidth', None)"
   ]
  },
  {
   "cell_type": "code",
   "execution_count": 153,
   "metadata": {},
   "outputs": [
    {
     "data": {
      "text/html": [
       "<div>\n",
       "<style scoped>\n",
       "    .dataframe tbody tr th:only-of-type {\n",
       "        vertical-align: middle;\n",
       "    }\n",
       "\n",
       "    .dataframe tbody tr th {\n",
       "        vertical-align: top;\n",
       "    }\n",
       "\n",
       "    .dataframe thead th {\n",
       "        text-align: right;\n",
       "    }\n",
       "</style>\n",
       "<table border=\"1\" class=\"dataframe\">\n",
       "  <thead>\n",
       "    <tr style=\"text-align: right;\">\n",
       "      <th></th>\n",
       "      <th>overall</th>\n",
       "      <th>verified</th>\n",
       "      <th>reviewTime</th>\n",
       "      <th>reviewerID</th>\n",
       "      <th>asin</th>\n",
       "      <th>reviewerName</th>\n",
       "      <th>reviewText</th>\n",
       "      <th>summary</th>\n",
       "      <th>unixReviewTime</th>\n",
       "      <th>vote</th>\n",
       "      <th>style</th>\n",
       "      <th>image</th>\n",
       "    </tr>\n",
       "  </thead>\n",
       "  <tbody>\n",
       "    <tr>\n",
       "      <th>0</th>\n",
       "      <td>1.0</td>\n",
       "      <td>True</td>\n",
       "      <td>11 26, 2015</td>\n",
       "      <td>A1IDUCEV1BX9K5</td>\n",
       "      <td>B018K6KV68</td>\n",
       "      <td>Mark Webb</td>\n",
       "      <td>Overbearing static when using the headset microphone with the amplifier. Tested in two computers by different manufacturers. The headset is pointless without its main selling feature, so I opted to return the headset, citing a defect.</td>\n",
       "      <td>No Deal: Overbearing static.</td>\n",
       "      <td>1448496000</td>\n",
       "      <td>NaN</td>\n",
       "      <td>{'Package Type:': ' Standard Packaging'}</td>\n",
       "      <td>NaN</td>\n",
       "    </tr>\n",
       "    <tr>\n",
       "      <th>1</th>\n",
       "      <td>1.0</td>\n",
       "      <td>False</td>\n",
       "      <td>04 7, 2014</td>\n",
       "      <td>A14JFC91SO0UAK</td>\n",
       "      <td>B00IYWV852</td>\n",
       "      <td>NwolfZ</td>\n",
       "      <td>where is lineage 3 ? been waiting, stop putting out fad of the month mmos and make a game someone might actually play for a year or two</td>\n",
       "      <td>why</td>\n",
       "      <td>1396828800</td>\n",
       "      <td>3.0</td>\n",
       "      <td>{'Edition:': ' Deluxe', 'Platform:': ' PC Online Game Code'}</td>\n",
       "      <td>NaN</td>\n",
       "    </tr>\n",
       "    <tr>\n",
       "      <th>2</th>\n",
       "      <td>1.0</td>\n",
       "      <td>True</td>\n",
       "      <td>01 2, 2014</td>\n",
       "      <td>A22UVUVV8E0L6C</td>\n",
       "      <td>B009AGXH64</td>\n",
       "      <td>Micah</td>\n",
       "      <td>No games on this console worth buying at even garage sale prices. This thing will on-and-off refuse to connect to the internet (and yes, I tried it on various networking devices). I probably spent an hour of online time in the vague 20 hours of use I got out of it. In the middle of one online session, the signal it was sending to the tv became a digital mess, and the gamepad lost connection. I tried various things, and even tried calling customer support. They have nice voices and attitudes, but I don't know if they have ears. I told them all the various things I tried, and they made me try them several times over.\\n\\nI already disliked nintendo to begin with, but I got this console to play Sonic Lost World (as I am a fan of the series) and Monster Hunter 3 Ultimate (with a friend who lives a fair distance away). If anyone else has the mindset to get a wiiu for any purpose, I would strongly advise against it. I just gave the console to a computer shop in the town I live in and I was able to get money for the games and gamepad, but it pales in comparison to the money I could've gotten selling it online. I pity the buyers out there paying any more than $40 for the controllers, let alone the console or games.\\n\\nDon't get me wrong, I'm not so angry that I can't think. I'm not exaggerating at all, though, either. The only person I know other than myself who has a wiiu is that friend I wanted to play Monster Hunter 3 Ultimate with, and they also have constant connection problems.</td>\n",
       "      <td>No.</td>\n",
       "      <td>1388620800</td>\n",
       "      <td>2.0</td>\n",
       "      <td>NaN</td>\n",
       "      <td>NaN</td>\n",
       "    </tr>\n",
       "    <tr>\n",
       "      <th>3</th>\n",
       "      <td>1.0</td>\n",
       "      <td>True</td>\n",
       "      <td>04 11, 2014</td>\n",
       "      <td>AYWLQV495MVRI</td>\n",
       "      <td>B001IK1BJ0</td>\n",
       "      <td>kris devereux</td>\n",
       "      <td>i had such high hopes of orgins, i reallly wanted to like it i did, but it was flatter then a pancake gameplay wise</td>\n",
       "      <td>a mess of a game</td>\n",
       "      <td>1397174400</td>\n",
       "      <td>NaN</td>\n",
       "      <td>{'Edition:': ' Standard', 'Platform:': ' Xbox 360'}</td>\n",
       "      <td>NaN</td>\n",
       "    </tr>\n",
       "    <tr>\n",
       "      <th>4</th>\n",
       "      <td>1.0</td>\n",
       "      <td>False</td>\n",
       "      <td>02 15, 2017</td>\n",
       "      <td>A1PRLX14CBS93S</td>\n",
       "      <td>B00DSFW5MA</td>\n",
       "      <td>John R Clark</td>\n",
       "      <td>Can not get it to work with steam games, All 4 controllers work fine in the menu, but go to play rocket league and none of the controllers work. There is a steam forum post that has gone unanswered for years. If you switch this to SINGLE controller mode it works with some games and not others. Research suggests you have to buy VirtualHere a $39 piece of software to make this work. Will not... Would not suggest to buy.</td>\n",
       "      <td>Steam games only can use 1 out of 4 controllers.</td>\n",
       "      <td>1487116800</td>\n",
       "      <td>NaN</td>\n",
       "      <td>{'Size:': ' 1 Pack'}</td>\n",
       "      <td>NaN</td>\n",
       "    </tr>\n",
       "  </tbody>\n",
       "</table>\n",
       "</div>"
      ],
      "text/plain": [
       "   overall  verified   reviewTime      reviewerID        asin   reviewerName  \\\n",
       "0      1.0      True  11 26, 2015  A1IDUCEV1BX9K5  B018K6KV68      Mark Webb   \n",
       "1      1.0     False   04 7, 2014  A14JFC91SO0UAK  B00IYWV852         NwolfZ   \n",
       "2      1.0      True   01 2, 2014  A22UVUVV8E0L6C  B009AGXH64          Micah   \n",
       "3      1.0      True  04 11, 2014   AYWLQV495MVRI  B001IK1BJ0  kris devereux   \n",
       "4      1.0     False  02 15, 2017  A1PRLX14CBS93S  B00DSFW5MA   John R Clark   \n",
       "\n",
       "                                                                                                                                                                                                                                                                                                                                                                                                                                                                                                                                                                                                                                                                                                                                                                                                                                                                                                                                                                                                                                                                                                                                                                                                                                                                                                                                                                                                                                                                                                                                                    reviewText  \\\n",
       "0                                                                                                                                                                                                                                                                                                                                                                                                                                                                                                                                                                                                                                                                                                                                                                                                                                                                                                                                                                                                                                                                                                                                                                                                                                                                                                                   Overbearing static when using the headset microphone with the amplifier. Tested in two computers by different manufacturers. The headset is pointless without its main selling feature, so I opted to return the headset, citing a defect.   \n",
       "1                                                                                                                                                                                                                                                                                                                                                                                                                                                                                                                                                                                                                                                                                                                                                                                                                                                                                                                                                                                                                                                                                                                                                                                                                                                                                                                                                                                                                      where is lineage 3 ? been waiting, stop putting out fad of the month mmos and make a game someone might actually play for a year or two   \n",
       "2  No games on this console worth buying at even garage sale prices. This thing will on-and-off refuse to connect to the internet (and yes, I tried it on various networking devices). I probably spent an hour of online time in the vague 20 hours of use I got out of it. In the middle of one online session, the signal it was sending to the tv became a digital mess, and the gamepad lost connection. I tried various things, and even tried calling customer support. They have nice voices and attitudes, but I don't know if they have ears. I told them all the various things I tried, and they made me try them several times over.\\n\\nI already disliked nintendo to begin with, but I got this console to play Sonic Lost World (as I am a fan of the series) and Monster Hunter 3 Ultimate (with a friend who lives a fair distance away). If anyone else has the mindset to get a wiiu for any purpose, I would strongly advise against it. I just gave the console to a computer shop in the town I live in and I was able to get money for the games and gamepad, but it pales in comparison to the money I could've gotten selling it online. I pity the buyers out there paying any more than $40 for the controllers, let alone the console or games.\\n\\nDon't get me wrong, I'm not so angry that I can't think. I'm not exaggerating at all, though, either. The only person I know other than myself who has a wiiu is that friend I wanted to play Monster Hunter 3 Ultimate with, and they also have constant connection problems.   \n",
       "3                                                                                                                                                                                                                                                                                                                                                                                                                                                                                                                                                                                                                                                                                                                                                                                                                                                                                                                                                                                                                                                                                                                                                                                                                                                                                                                                                                                                                                          i had such high hopes of orgins, i reallly wanted to like it i did, but it was flatter then a pancake gameplay wise   \n",
       "4                                                                                                                                                                                                                                                                                                                                                                                                                                                                                                                                                                                                                                                                                                                                                                                                                                                                                                                                                                                                                                                                                                                        Can not get it to work with steam games, All 4 controllers work fine in the menu, but go to play rocket league and none of the controllers work. There is a steam forum post that has gone unanswered for years. If you switch this to SINGLE controller mode it works with some games and not others. Research suggests you have to buy VirtualHere a $39 piece of software to make this work. Will not... Would not suggest to buy.   \n",
       "\n",
       "                                            summary  unixReviewTime  vote  \\\n",
       "0                      No Deal: Overbearing static.      1448496000   NaN   \n",
       "1                                               why      1396828800   3.0   \n",
       "2                                               No.      1388620800   2.0   \n",
       "3                                  a mess of a game      1397174400   NaN   \n",
       "4  Steam games only can use 1 out of 4 controllers.      1487116800   NaN   \n",
       "\n",
       "                                                          style image  \n",
       "0                      {'Package Type:': ' Standard Packaging'}   NaN  \n",
       "1  {'Edition:': ' Deluxe', 'Platform:': ' PC Online Game Code'}   NaN  \n",
       "2                                                           NaN   NaN  \n",
       "3           {'Edition:': ' Standard', 'Platform:': ' Xbox 360'}   NaN  \n",
       "4                                          {'Size:': ' 1 Pack'}   NaN  "
      ]
     },
     "execution_count": 153,
     "metadata": {},
     "output_type": "execute_result"
    }
   ],
   "source": [
    "reviews = pd.read_csv(\"undersampled_Video_Games_reviews.csv\")\n",
    "reviews.head()"
   ]
  },
  {
   "cell_type": "markdown",
   "metadata": {},
   "source": [
    "# Tokenize the data"
   ]
  },
  {
   "cell_type": "code",
   "execution_count": 154,
   "metadata": {},
   "outputs": [],
   "source": [
    "from nltk.tokenize import TreebankWordTokenizer\n",
    "from string import punctuation\n",
    "import string"
   ]
  },
  {
   "cell_type": "code",
   "execution_count": 155,
   "metadata": {},
   "outputs": [],
   "source": [
    "reviews[\"rev_text_lower\"] = reviews['reviewText'].apply(lambda rev: str(rev)\\\n",
    "                                                        .translate(str.maketrans('', '', punctuation))\\\n",
    "                                                        .replace(\"<br />\", \" \")\\\n",
    "                                                        .lower())"
   ]
  },
  {
   "cell_type": "code",
   "execution_count": 156,
   "metadata": {},
   "outputs": [
    {
     "data": {
      "text/html": [
       "<div>\n",
       "<style scoped>\n",
       "    .dataframe tbody tr th:only-of-type {\n",
       "        vertical-align: middle;\n",
       "    }\n",
       "\n",
       "    .dataframe tbody tr th {\n",
       "        vertical-align: top;\n",
       "    }\n",
       "\n",
       "    .dataframe thead th {\n",
       "        text-align: right;\n",
       "    }\n",
       "</style>\n",
       "<table border=\"1\" class=\"dataframe\">\n",
       "  <thead>\n",
       "    <tr style=\"text-align: right;\">\n",
       "      <th></th>\n",
       "      <th>reviewText</th>\n",
       "      <th>rev_text_lower</th>\n",
       "    </tr>\n",
       "  </thead>\n",
       "  <tbody>\n",
       "    <tr>\n",
       "      <th>1860</th>\n",
       "      <td>works good. my only complaint is the cords in the back for the av are smashed so i have to wiggle the plug to get it to work. other than that great system. controller was in good condition. only little wear and tear on system. shipping was fast. packaging was excellent. would order again.</td>\n",
       "      <td>works good my only complaint is the cords in the back for the av are smashed so i have to wiggle the plug to get it to work other than that great system controller was in good condition only little wear and tear on system shipping was fast packaging was excellent would order again</td>\n",
       "    </tr>\n",
       "    <tr>\n",
       "      <th>952</th>\n",
       "      <td>Game locked up after the single player campaign mission selection.</td>\n",
       "      <td>game locked up after the single player campaign mission selection</td>\n",
       "    </tr>\n",
       "  </tbody>\n",
       "</table>\n",
       "</div>"
      ],
      "text/plain": [
       "                                                                                                                                                                                                                                                                                             reviewText  \\\n",
       "1860  works good. my only complaint is the cords in the back for the av are smashed so i have to wiggle the plug to get it to work. other than that great system. controller was in good condition. only little wear and tear on system. shipping was fast. packaging was excellent. would order again.   \n",
       "952                                                                                                                                                                                                                                  Game locked up after the single player campaign mission selection.   \n",
       "\n",
       "                                                                                                                                                                                                                                                                                 rev_text_lower  \n",
       "1860  works good my only complaint is the cords in the back for the av are smashed so i have to wiggle the plug to get it to work other than that great system controller was in good condition only little wear and tear on system shipping was fast packaging was excellent would order again  \n",
       "952                                                                                                                                                                                                                           game locked up after the single player campaign mission selection  "
      ]
     },
     "execution_count": 156,
     "metadata": {},
     "output_type": "execute_result"
    }
   ],
   "source": [
    "reviews[['reviewText','rev_text_lower']].sample(2)"
   ]
  },
  {
   "cell_type": "code",
   "execution_count": 157,
   "metadata": {},
   "outputs": [],
   "source": [
    "tb_tokenizer = TreebankWordTokenizer()"
   ]
  },
  {
   "cell_type": "code",
   "execution_count": 158,
   "metadata": {},
   "outputs": [],
   "source": [
    "reviews[\"tb_tokens\"] = reviews['rev_text_lower'].apply(lambda rev: tb_tokenizer.tokenize(str(rev)))"
   ]
  },
  {
   "cell_type": "code",
   "execution_count": 159,
   "metadata": {},
   "outputs": [
    {
     "data": {
      "text/html": [
       "<div>\n",
       "<style scoped>\n",
       "    .dataframe tbody tr th:only-of-type {\n",
       "        vertical-align: middle;\n",
       "    }\n",
       "\n",
       "    .dataframe tbody tr th {\n",
       "        vertical-align: top;\n",
       "    }\n",
       "\n",
       "    .dataframe thead th {\n",
       "        text-align: right;\n",
       "    }\n",
       "</style>\n",
       "<table border=\"1\" class=\"dataframe\">\n",
       "  <thead>\n",
       "    <tr style=\"text-align: right;\">\n",
       "      <th></th>\n",
       "      <th>reviewText</th>\n",
       "      <th>tb_tokens</th>\n",
       "    </tr>\n",
       "  </thead>\n",
       "  <tbody>\n",
       "    <tr>\n",
       "      <th>431</th>\n",
       "      <td>Do NOT stimulate these scalpers. This product was release costing U$30 now is being sold by $90. Activision is showing to be the WORST company ever. They are releasing few units of characters/packs randomly  packed together with others. They are stimulating this black market with overpriced items. Don't buy to force this price down...\\nActivision will never account on me for buying new franchises of Skylanders game. With this policy of traps/characters/packs that can't be separately sold, Activision missed myself as a Skylanders customer forever...</td>\n",
       "      <td>[do, not, stimulate, these, scalpers, this, product, was, release, costing, u30, now, is, being, sold, by, 90, activision, is, showing, to, be, the, worst, company, ever, they, are, releasing, few, units, of, characterspacks, randomly, packed, together, with, others, they, are, stimulating, this, black, market, with, overpriced, items, dont, buy, to, force, this, price, down, activision, will, never, account, on, me, for, buying, new, franchises, of, skylanders, game, with, this, policy, of, trapscharacterspacks, that, cant, be, separately, sold, activision, missed, myself, as, a, skylanders, customer, forever]</td>\n",
       "    </tr>\n",
       "    <tr>\n",
       "      <th>918</th>\n",
       "      <td>This is alot like mechwarrior.... If you take all the cool things about mechwarrior and either removed them ir significantly complicated them into a list of muddled messes...\\n\\nThis game plays like a brain tumor. It just bad.\\nThe controls are awful... And even once you get used to them, the camera controls never seem intuitive or useful.\\nThe process if personalizing your mech... Sorry... Hound... Is more like analyzing a spreadsheet of data than it is like equipping a missile launcher... Its borderline indecipherable from just making the player perform multivariate calculus... In their head... While listening to bad electronic/industrial music.\\n\\nThe missions...  Are more like trials of tribulation that you not so much complete, as you master, since you will undoubtedly play them over a dozen times before you decipher the actual meaning of the briefing/objectives and fugure out what all the novel symbols on the abortion of a map they provide you with mean.\\n\\nAvoid. At. All. Costs.</td>\n",
       "      <td>[this, is, alot, like, mechwarrior, if, you, take, all, the, cool, things, about, mechwarrior, and, either, removed, them, ir, significantly, complicated, them, into, a, list, of, muddled, messes, this, game, plays, like, a, brain, tumor, it, just, bad, the, controls, are, awful, and, even, once, you, get, used, to, them, the, camera, controls, never, seem, intuitive, or, useful, the, process, if, personalizing, your, mech, sorry, hound, is, more, like, analyzing, a, spreadsheet, of, data, than, it, is, like, equipping, a, missile, launcher, its, borderline, indecipherable, from, just, making, the, player, perform, multivariate, calculus, in, their, head, while, listening, to, bad, ...]</td>\n",
       "    </tr>\n",
       "  </tbody>\n",
       "</table>\n",
       "</div>"
      ],
      "text/plain": [
       "                                                                                                                                                                                                                                                                                                                                                                                                                                                                                                                                                                                                                                                                                                                                                                                                                                                                                                                                                                                                                                   reviewText  \\\n",
       "431                                                                                                                                                                                                                                                                                                                                                                                                                                                                Do NOT stimulate these scalpers. This product was release costing U$30 now is being sold by $90. Activision is showing to be the WORST company ever. They are releasing few units of characters/packs randomly  packed together with others. They are stimulating this black market with overpriced items. Don't buy to force this price down...\\nActivision will never account on me for buying new franchises of Skylanders game. With this policy of traps/characters/packs that can't be separately sold, Activision missed myself as a Skylanders customer forever...   \n",
       "918  This is alot like mechwarrior.... If you take all the cool things about mechwarrior and either removed them ir significantly complicated them into a list of muddled messes...\\n\\nThis game plays like a brain tumor. It just bad.\\nThe controls are awful... And even once you get used to them, the camera controls never seem intuitive or useful.\\nThe process if personalizing your mech... Sorry... Hound... Is more like analyzing a spreadsheet of data than it is like equipping a missile launcher... Its borderline indecipherable from just making the player perform multivariate calculus... In their head... While listening to bad electronic/industrial music.\\n\\nThe missions...  Are more like trials of tribulation that you not so much complete, as you master, since you will undoubtedly play them over a dozen times before you decipher the actual meaning of the briefing/objectives and fugure out what all the novel symbols on the abortion of a map they provide you with mean.\\n\\nAvoid. At. All. Costs.   \n",
       "\n",
       "                                                                                                                                                                                                                                                                                                                                                                                                                                                                                                                                                                                                                                                                                                                   tb_tokens  \n",
       "431                                                                               [do, not, stimulate, these, scalpers, this, product, was, release, costing, u30, now, is, being, sold, by, 90, activision, is, showing, to, be, the, worst, company, ever, they, are, releasing, few, units, of, characterspacks, randomly, packed, together, with, others, they, are, stimulating, this, black, market, with, overpriced, items, dont, buy, to, force, this, price, down, activision, will, never, account, on, me, for, buying, new, franchises, of, skylanders, game, with, this, policy, of, trapscharacterspacks, that, cant, be, separately, sold, activision, missed, myself, as, a, skylanders, customer, forever]  \n",
       "918  [this, is, alot, like, mechwarrior, if, you, take, all, the, cool, things, about, mechwarrior, and, either, removed, them, ir, significantly, complicated, them, into, a, list, of, muddled, messes, this, game, plays, like, a, brain, tumor, it, just, bad, the, controls, are, awful, and, even, once, you, get, used, to, them, the, camera, controls, never, seem, intuitive, or, useful, the, process, if, personalizing, your, mech, sorry, hound, is, more, like, analyzing, a, spreadsheet, of, data, than, it, is, like, equipping, a, missile, launcher, its, borderline, indecipherable, from, just, making, the, player, perform, multivariate, calculus, in, their, head, while, listening, to, bad, ...]  "
      ]
     },
     "execution_count": 159,
     "metadata": {},
     "output_type": "execute_result"
    }
   ],
   "source": [
    "reviews[['reviewText','tb_tokens']].sample(2)"
   ]
  },
  {
   "cell_type": "markdown",
   "metadata": {},
   "source": [
    "# Stemming"
   ]
  },
  {
   "cell_type": "code",
   "execution_count": 160,
   "metadata": {},
   "outputs": [],
   "source": [
    "from nltk.stem.porter import PorterStemmer\n",
    "\n",
    "stemmer = PorterStemmer()\n",
    "reviews['tokens_stemmed'] = reviews['tb_tokens'].apply(lambda words: [stemmer.stem(w) for w in words])"
   ]
  },
  {
   "cell_type": "code",
   "execution_count": 161,
   "metadata": {},
   "outputs": [
    {
     "data": {
      "text/html": [
       "<div>\n",
       "<style scoped>\n",
       "    .dataframe tbody tr th:only-of-type {\n",
       "        vertical-align: middle;\n",
       "    }\n",
       "\n",
       "    .dataframe tbody tr th {\n",
       "        vertical-align: top;\n",
       "    }\n",
       "\n",
       "    .dataframe thead th {\n",
       "        text-align: right;\n",
       "    }\n",
       "</style>\n",
       "<table border=\"1\" class=\"dataframe\">\n",
       "  <thead>\n",
       "    <tr style=\"text-align: right;\">\n",
       "      <th></th>\n",
       "      <th>tb_tokens</th>\n",
       "      <th>tokens_stemmed</th>\n",
       "    </tr>\n",
       "  </thead>\n",
       "  <tbody>\n",
       "    <tr>\n",
       "      <th>1019</th>\n",
       "      <td>[it, is, a, great, driving, and, racing, car, game, i, love, the, graphics, and, gameplay]</td>\n",
       "      <td>[it, is, a, great, drive, and, race, car, game, i, love, the, graphic, and, gameplay]</td>\n",
       "    </tr>\n",
       "    <tr>\n",
       "      <th>2337</th>\n",
       "      <td>[these, are, one, of, the, nicest, things, out, there, for, keeping, your, games, dustdirtgrime, free, etc, everyone, should, use, them, to, keep, their, games, clean]</td>\n",
       "      <td>[these, are, one, of, the, nicest, thing, out, there, for, keep, your, game, dustdirtgrim, free, etc, everyon, should, use, them, to, keep, their, game, clean]</td>\n",
       "    </tr>\n",
       "    <tr>\n",
       "      <th>771</th>\n",
       "      <td>[beautiful, game, fun, to, play, yadda, yadda, yadda, as, others, have, noted, this, is, only, the, terran, campaign, and, that, is, why, i, hate, having, paid, 60, for, it, i, played, wow, for, almost, 3, years, and, have, gotten, well, used, to, blizzivision, milking, the, fan, base, this, is, a, new, low, i, have, always, preferred, to, play, protoss, and, after, waiting, all, this, time, buying, the, game, sight, unseen, boy, am, i, pissed, at, the, outrageous, greed, of, only, including, one, campaign, as, a, gamer, i, have, given, blizzard, thousands, of, dollars, for, games, and, subscriptions, they, have, given, ...]</td>\n",
       "      <td>[beauti, game, fun, to, play, yadda, yadda, yadda, as, other, have, note, thi, is, onli, the, terran, campaign, and, that, is, whi, i, hate, have, paid, 60, for, it, i, play, wow, for, almost, 3, year, and, have, gotten, well, use, to, blizzivis, milk, the, fan, base, thi, is, a, new, low, i, have, alway, prefer, to, play, protoss, and, after, wait, all, thi, time, buy, the, game, sight, unseen, boy, am, i, piss, at, the, outrag, greed, of, onli, includ, one, campaign, as, a, gamer, i, have, given, blizzard, thousand, of, dollar, for, game, and, subscript, they, have, given, ...]</td>\n",
       "    </tr>\n",
       "  </tbody>\n",
       "</table>\n",
       "</div>"
      ],
      "text/plain": [
       "                                                                                                                                                                                                                                                                                                                                                                                                                                                                                                                                                                                                                                                     tb_tokens  \\\n",
       "1019                                                                                                                                                                                                                                                                                                                                                                                                                                                                                                                                                                [it, is, a, great, driving, and, racing, car, game, i, love, the, graphics, and, gameplay]   \n",
       "2337                                                                                                                                                                                                                                                                                                                                                                                                                                                                                   [these, are, one, of, the, nicest, things, out, there, for, keeping, your, games, dustdirtgrime, free, etc, everyone, should, use, them, to, keep, their, games, clean]   \n",
       "771   [beautiful, game, fun, to, play, yadda, yadda, yadda, as, others, have, noted, this, is, only, the, terran, campaign, and, that, is, why, i, hate, having, paid, 60, for, it, i, played, wow, for, almost, 3, years, and, have, gotten, well, used, to, blizzivision, milking, the, fan, base, this, is, a, new, low, i, have, always, preferred, to, play, protoss, and, after, waiting, all, this, time, buying, the, game, sight, unseen, boy, am, i, pissed, at, the, outrageous, greed, of, only, including, one, campaign, as, a, gamer, i, have, given, blizzard, thousands, of, dollars, for, games, and, subscriptions, they, have, given, ...]   \n",
       "\n",
       "                                                                                                                                                                                                                                                                                                                                                                                                                                                                                                                                                                                                  tokens_stemmed  \n",
       "1019                                                                                                                                                                                                                                                                                                                                                                                                                                                                                                                       [it, is, a, great, drive, and, race, car, game, i, love, the, graphic, and, gameplay]  \n",
       "2337                                                                                                                                                                                                                                                                                                                                                                                                                                             [these, are, one, of, the, nicest, thing, out, there, for, keep, your, game, dustdirtgrim, free, etc, everyon, should, use, them, to, keep, their, game, clean]  \n",
       "771   [beauti, game, fun, to, play, yadda, yadda, yadda, as, other, have, note, thi, is, onli, the, terran, campaign, and, that, is, whi, i, hate, have, paid, 60, for, it, i, play, wow, for, almost, 3, year, and, have, gotten, well, use, to, blizzivis, milk, the, fan, base, thi, is, a, new, low, i, have, alway, prefer, to, play, protoss, and, after, wait, all, thi, time, buy, the, game, sight, unseen, boy, am, i, piss, at, the, outrag, greed, of, onli, includ, one, campaign, as, a, gamer, i, have, given, blizzard, thousand, of, dollar, for, game, and, subscript, they, have, given, ...]  "
      ]
     },
     "execution_count": 161,
     "metadata": {},
     "output_type": "execute_result"
    }
   ],
   "source": [
    "reviews[['tb_tokens','tokens_stemmed']].sample(3)"
   ]
  },
  {
   "cell_type": "markdown",
   "metadata": {},
   "source": [
    "# Lemmatisation"
   ]
  },
  {
   "cell_type": "code",
   "execution_count": 232,
   "metadata": {},
   "outputs": [],
   "source": [
    "from nltk.stem import WordNetLemmatizer\n",
    "from nltk.corpus import wordnet as wn\n",
    "from nltk.corpus import sentiwordnet as swn\n",
    "from nltk import sent_tokenize, word_tokenize, pos_tag"
   ]
  },
  {
   "cell_type": "code",
   "execution_count": 163,
   "metadata": {},
   "outputs": [],
   "source": [
    "def penn_to_wn(tag):\n",
    "    \"\"\"\n",
    "        Convert between the PennTreebank tags to simple Wordnet tags\n",
    "    \"\"\"\n",
    "    if tag.startswith('J'):\n",
    "        return wn.ADJ\n",
    "    elif tag.startswith('N'):\n",
    "        return wn.NOUN\n",
    "    elif tag.startswith('R'):\n",
    "        return wn.ADV\n",
    "    elif tag.startswith('V'):\n",
    "        return wn.VERB\n",
    "    return None"
   ]
  },
  {
   "cell_type": "code",
   "execution_count": 182,
   "metadata": {},
   "outputs": [],
   "source": [
    "lemmatizer = WordNetLemmatizer()\n",
    "def get_lemas(tokens):\n",
    "    lemmas = []\n",
    "    for token in tokens:\n",
    "        pos = penn_to_wn(pos_tag([token])[0][1])\n",
    "        if pos:\n",
    "            lemma = lemmatizer.lemmatize(token, pos)\n",
    "            if lemma:\n",
    "                lemmas.append(lemma)\n",
    "    return lemmas"
   ]
  },
  {
   "cell_type": "code",
   "execution_count": 202,
   "metadata": {},
   "outputs": [
    {
     "name": "stderr",
     "output_type": "stream",
     "text": [
      "[nltk_data] Downloading package punkt to C:\\Users\\Ehsan Karegar\n",
      "[nltk_data]     Froogh\\AppData\\Roaming\\nltk_data...\n",
      "[nltk_data]   Package punkt is already up-to-date!\n",
      "[nltk_data] Downloading package averaged_perceptron_tagger to\n",
      "[nltk_data]     C:\\Users\\Ehsan Karegar\n",
      "[nltk_data]     Froogh\\AppData\\Roaming\\nltk_data...\n",
      "[nltk_data]   Package averaged_perceptron_tagger is already up-to-\n",
      "[nltk_data]       date!\n",
      "[nltk_data] Downloading package wordnet to C:\\Users\\Ehsan Karegar\n",
      "[nltk_data]     Froogh\\AppData\\Roaming\\nltk_data...\n",
      "[nltk_data]   Package wordnet is already up-to-date!\n",
      "[nltk_data] Downloading package sentiwordnet to C:\\Users\\Ehsan Karegar\n",
      "[nltk_data]     Froogh\\AppData\\Roaming\\nltk_data...\n",
      "[nltk_data]   Unzipping corpora\\sentiwordnet.zip.\n"
     ]
    },
    {
     "data": {
      "text/plain": [
       "True"
      ]
     },
     "execution_count": 202,
     "metadata": {},
     "output_type": "execute_result"
    }
   ],
   "source": [
    "nltk.download('punkt')\n",
    "nltk.download('averaged_perceptron_tagger')\n",
    "nltk.download('wordnet')\n",
    "nltk.download('sentiwordnet')"
   ]
  },
  {
   "cell_type": "code",
   "execution_count": 184,
   "metadata": {},
   "outputs": [],
   "source": [
    "reviews['lemmas'] = reviews['tb_tokens'].apply(lambda tokens: get_lemas(tokens))"
   ]
  },
  {
   "cell_type": "code",
   "execution_count": 185,
   "metadata": {},
   "outputs": [
    {
     "data": {
      "text/html": [
       "<div>\n",
       "<style scoped>\n",
       "    .dataframe tbody tr th:only-of-type {\n",
       "        vertical-align: middle;\n",
       "    }\n",
       "\n",
       "    .dataframe tbody tr th {\n",
       "        vertical-align: top;\n",
       "    }\n",
       "\n",
       "    .dataframe thead th {\n",
       "        text-align: right;\n",
       "    }\n",
       "</style>\n",
       "<table border=\"1\" class=\"dataframe\">\n",
       "  <thead>\n",
       "    <tr style=\"text-align: right;\">\n",
       "      <th></th>\n",
       "      <th>tb_tokens</th>\n",
       "      <th>tokens_stemmed</th>\n",
       "      <th>lemmas</th>\n",
       "    </tr>\n",
       "  </thead>\n",
       "  <tbody>\n",
       "    <tr>\n",
       "      <th>1306</th>\n",
       "      <td>[the, game, is, fun, to, play, and, definitely, gives, you, a, good, work, out, but, the, tracking, is, lacking, despite, having, what, i, would, think, is, enough, light, id, get, a, lot, of, error, messages, and, it, would, show, my, knees, as, my, feet, making, the, points, system, inaccurate, just, dance, has, no, problem, tracking, us, i, dont, know, why, this, game, has, such, a, hard, time]</td>\n",
       "      <td>[the, game, is, fun, to, play, and, definit, give, you, a, good, work, out, but, the, track, is, lack, despit, have, what, i, would, think, is, enough, light, id, get, a, lot, of, error, messag, and, it, would, show, my, knee, as, my, feet, make, the, point, system, inaccur, just, danc, ha, no, problem, track, us, i, dont, know, whi, thi, game, ha, such, a, hard, time]</td>\n",
       "      <td>[game, be, fun, play, definitely, give, good, work, track, be, lack, have, i, think, be, enough, light, id, get, lot, error, message, show, knee, foot, make, point, system, inaccurate, just, dance, have, problem, track, i, dont, know, game, have, such, hard, time]</td>\n",
       "    </tr>\n",
       "    <tr>\n",
       "      <th>878</th>\n",
       "      <td>[i, think, it, has, been, said, over, and, over, here, one, of, the, most, important, aspects, of, a, game, is, the, connection, that, the, player, feels, with, the, protagonist, either, you, like, or, feel, empathy, for, the, main, character, but, in, this, game, i, just, cant, help, but, dislike, this, ridiculous, indian, boy, aka, connor, i, dont, feel, connected, to, the, character, and, thus, dont, feel, connected, to, the, game, itself, with, in, turn, makes, it, boring, in, assassins, creed, 2, you, cant, help, but, like, ezio, but, here, its, the, complete, opposite]</td>\n",
       "      <td>[i, think, it, ha, been, said, over, and, over, here, one, of, the, most, import, aspect, of, a, game, is, the, connect, that, the, player, feel, with, the, protagonist, either, you, like, or, feel, empathi, for, the, main, charact, but, in, thi, game, i, just, cant, help, but, dislik, thi, ridicul, indian, boy, aka, connor, i, dont, feel, connect, to, the, charact, and, thu, dont, feel, connect, to, the, game, itself, with, in, turn, make, it, bore, in, assassin, creed, 2, you, cant, help, but, like, ezio, but, here, it, the, complet, opposit]</td>\n",
       "      <td>[i, think, have, be, say, here, most, important, aspect, game, be, connection, player, feel, protagonist, feel, empathy, main, character, game, i, just, cant, help, dislike, ridiculous, indian, boy, aka, connor, i, dont, feel, connect, character, thus, dont, feel, connect, game, turn, make, boring, assassin, creed, cant, help, ezio, here, complete, opposite]</td>\n",
       "    </tr>\n",
       "    <tr>\n",
       "      <th>2069</th>\n",
       "      <td>[it, doesnt, really, connect, to, anything, it, just, holds, on, to, the, edge, of, the, tv, with, a, foot, that, adjust, to, the, back, to, keep, it, upright, good, news, everyone, the, mount, been, sitting, for, months, on, top, of, my, tv, with, no, problems, even, with, a, 2, year, old, banging, on, the, tv, the, only, thing, i, didnt, like, was, how, the, foot, that, you, have, to, manually, adjust, feels, like, youre, about, to, break, it]</td>\n",
       "      <td>[it, doesnt, realli, connect, to, anyth, it, just, hold, on, to, the, edg, of, the, tv, with, a, foot, that, adjust, to, the, back, to, keep, it, upright, good, news, everyon, the, mount, been, sit, for, month, on, top, of, my, tv, with, no, problem, even, with, a, 2, year, old, bang, on, the, tv, the, onli, thing, i, didnt, like, wa, how, the, foot, that, you, have, to, manual, adjust, feel, like, your, about, to, break, it]</td>\n",
       "      <td>[doesnt, really, connect, anything, just, hold, edge, tv, foot, adjust, back, keep, upright, good, news, everyone, mount, be, sit, month, top, tv, problem, even, year, old, banging, tv, only, thing, i, didnt, be, foot, have, manually, adjust, feel, youre, break]</td>\n",
       "    </tr>\n",
       "  </tbody>\n",
       "</table>\n",
       "</div>"
      ],
      "text/plain": [
       "                                                                                                                                                                                                                                                                                                                                                                                                                                                                                                                                                                                                  tb_tokens  \\\n",
       "1306                                                                                                                                                                                       [the, game, is, fun, to, play, and, definitely, gives, you, a, good, work, out, but, the, tracking, is, lacking, despite, having, what, i, would, think, is, enough, light, id, get, a, lot, of, error, messages, and, it, would, show, my, knees, as, my, feet, making, the, points, system, inaccurate, just, dance, has, no, problem, tracking, us, i, dont, know, why, this, game, has, such, a, hard, time]   \n",
       "878   [i, think, it, has, been, said, over, and, over, here, one, of, the, most, important, aspects, of, a, game, is, the, connection, that, the, player, feels, with, the, protagonist, either, you, like, or, feel, empathy, for, the, main, character, but, in, this, game, i, just, cant, help, but, dislike, this, ridiculous, indian, boy, aka, connor, i, dont, feel, connected, to, the, character, and, thus, dont, feel, connected, to, the, game, itself, with, in, turn, makes, it, boring, in, assassins, creed, 2, you, cant, help, but, like, ezio, but, here, its, the, complete, opposite]   \n",
       "2069                                                                                                                                      [it, doesnt, really, connect, to, anything, it, just, holds, on, to, the, edge, of, the, tv, with, a, foot, that, adjust, to, the, back, to, keep, it, upright, good, news, everyone, the, mount, been, sitting, for, months, on, top, of, my, tv, with, no, problems, even, with, a, 2, year, old, banging, on, the, tv, the, only, thing, i, didnt, like, was, how, the, foot, that, you, have, to, manually, adjust, feels, like, youre, about, to, break, it]   \n",
       "\n",
       "                                                                                                                                                                                                                                                                                                                                                                                                                                                                                                                                                              tokens_stemmed  \\\n",
       "1306                                                                                                                                                                                     [the, game, is, fun, to, play, and, definit, give, you, a, good, work, out, but, the, track, is, lack, despit, have, what, i, would, think, is, enough, light, id, get, a, lot, of, error, messag, and, it, would, show, my, knee, as, my, feet, make, the, point, system, inaccur, just, danc, ha, no, problem, track, us, i, dont, know, whi, thi, game, ha, such, a, hard, time]   \n",
       "878   [i, think, it, ha, been, said, over, and, over, here, one, of, the, most, import, aspect, of, a, game, is, the, connect, that, the, player, feel, with, the, protagonist, either, you, like, or, feel, empathi, for, the, main, charact, but, in, thi, game, i, just, cant, help, but, dislik, thi, ridicul, indian, boy, aka, connor, i, dont, feel, connect, to, the, charact, and, thu, dont, feel, connect, to, the, game, itself, with, in, turn, make, it, bore, in, assassin, creed, 2, you, cant, help, but, like, ezio, but, here, it, the, complet, opposit]   \n",
       "2069                                                                                                                           [it, doesnt, realli, connect, to, anyth, it, just, hold, on, to, the, edg, of, the, tv, with, a, foot, that, adjust, to, the, back, to, keep, it, upright, good, news, everyon, the, mount, been, sit, for, month, on, top, of, my, tv, with, no, problem, even, with, a, 2, year, old, bang, on, the, tv, the, onli, thing, i, didnt, like, wa, how, the, foot, that, you, have, to, manual, adjust, feel, like, your, about, to, break, it]   \n",
       "\n",
       "                                                                                                                                                                                                                                                                                                                                                                        lemmas  \n",
       "1306                                                                                                  [game, be, fun, play, definitely, give, good, work, track, be, lack, have, i, think, be, enough, light, id, get, lot, error, message, show, knee, foot, make, point, system, inaccurate, just, dance, have, problem, track, i, dont, know, game, have, such, hard, time]  \n",
       "878   [i, think, have, be, say, here, most, important, aspect, game, be, connection, player, feel, protagonist, feel, empathy, main, character, game, i, just, cant, help, dislike, ridiculous, indian, boy, aka, connor, i, dont, feel, connect, character, thus, dont, feel, connect, game, turn, make, boring, assassin, creed, cant, help, ezio, here, complete, opposite]  \n",
       "2069                                                                                                    [doesnt, really, connect, anything, just, hold, edge, tv, foot, adjust, back, keep, upright, good, news, everyone, mount, be, sit, month, top, tv, problem, even, year, old, banging, tv, only, thing, i, didnt, be, foot, have, manually, adjust, feel, youre, break]  "
      ]
     },
     "execution_count": 185,
     "metadata": {},
     "output_type": "execute_result"
    }
   ],
   "source": [
    "reviews[['tb_tokens','tokens_stemmed', 'lemmas']].sample(3)"
   ]
  },
  {
   "cell_type": "markdown",
   "metadata": {},
   "source": [
    "# Sentiment Predictor Baseline Model"
   ]
  },
  {
   "cell_type": "code",
   "execution_count": 216,
   "metadata": {},
   "outputs": [],
   "source": [
    "def get_sentiment_score(tokens):\n",
    "    score = 0\n",
    "    tags = pos_tag(tokens)\n",
    "    for word, tag in tags:\n",
    "        wn_tag = penn_to_wn(tag)\n",
    "        if not wn_tag:\n",
    "            continue\n",
    "        synsets = wn.synsets(word, pos=wn_tag)\n",
    "        if not synsets:\n",
    "            continue\n",
    "        \n",
    "        # most common set:\n",
    "        synset = synsets[0]\n",
    "        swn_synset = swn.senti_synset(synset.name())\n",
    "        \n",
    "        score += (swn_synset.pos_score() - swn_synset.neg_score())\n",
    "        \n",
    "    return score"
   ]
  },
  {
   "cell_type": "markdown",
   "metadata": {},
   "source": [
    "## Sentiment analysis\n",
    "For both lemmitization and stemming for comparison."
   ]
  },
  {
   "cell_type": "code",
   "execution_count": 224,
   "metadata": {},
   "outputs": [],
   "source": [
    "reviews['lemmas_sentiment_score'] = reviews['lemmas'].apply(lambda tokens: get_sentiment_score(tokens))"
   ]
  },
  {
   "cell_type": "code",
   "execution_count": 225,
   "metadata": {},
   "outputs": [],
   "source": [
    "reviews['stem_sentiment_score'] = reviews['tokens_stemmed'].apply(lambda tokens: get_sentiment_score(tokens))"
   ]
  },
  {
   "cell_type": "markdown",
   "metadata": {},
   "source": [
    "## Compare the results\n",
    "For some samples"
   ]
  },
  {
   "cell_type": "code",
   "execution_count": 254,
   "metadata": {},
   "outputs": [
    {
     "data": {
      "text/html": [
       "<div>\n",
       "<style scoped>\n",
       "    .dataframe tbody tr th:only-of-type {\n",
       "        vertical-align: middle;\n",
       "    }\n",
       "\n",
       "    .dataframe tbody tr th {\n",
       "        vertical-align: top;\n",
       "    }\n",
       "\n",
       "    .dataframe thead th {\n",
       "        text-align: right;\n",
       "    }\n",
       "</style>\n",
       "<table border=\"1\" class=\"dataframe\">\n",
       "  <thead>\n",
       "    <tr style=\"text-align: right;\">\n",
       "      <th></th>\n",
       "      <th>overall</th>\n",
       "      <th>reviewText</th>\n",
       "      <th>lemmas_sentiment_score</th>\n",
       "      <th>stem_sentiment_score</th>\n",
       "    </tr>\n",
       "  </thead>\n",
       "  <tbody>\n",
       "    <tr>\n",
       "      <th>1189</th>\n",
       "      <td>3.0</td>\n",
       "      <td>Far Cry 4 does not disappoint.  I'm only about 20 hours in to the game and am loving it.  If you played Far Cry 3, this game follows pretty much the same formula, with a few very cool changes and additions.\\n\\nUpdate 12/14 - I've been playing this game for 3 weeks now, probably 40-50 hours (which tells you that despite my complaints, it's still well worth the money)....I love the game, and have finished all the \"normal world\" missions. But the Shangri-La missions are maddingly annoying frustrating escapades.  You are only armed with a bow and arrow, and the save or check points are few and far between.  The 4th and last mission has me so frustrated that I'm thinking I'm just not going to worry about finishing it:  you have to hit a big \"phoenix\" bird perfectly in the mouth a number of times, then order a magic tiger to attack it, then hit it in the mouth again.  Then you have to repeat the process - ? - not sure how many times, because I keep getting killed by its minions before I can finish it. And then the whole process starts from the beginning.  WTF.\\n\\nIt's almost like the Shangri-La missions were not designed by the same person that did the rest of the game.\\n\\nIn addition, now that I have opened up the entire map, I find that the lack of availability of the helicopters is quite annoying.  Yeah, it's great that this is such a HUGE world, but exploring it by car takes forever!  And fast tracking to a known helicopter location and then flying all the way back takes almost as long.  I originally gave the game 5 stars, but have knocked it down to 3 because of the Shangri-La mess and the lack of helicopters.</td>\n",
       "      <td>0.500</td>\n",
       "      <td>-1.5</td>\n",
       "    </tr>\n",
       "    <tr>\n",
       "      <th>2457</th>\n",
       "      <td>5.0</td>\n",
       "      <td>we loved it!!!!</td>\n",
       "      <td>0.625</td>\n",
       "      <td>0.5</td>\n",
       "    </tr>\n",
       "  </tbody>\n",
       "</table>\n",
       "</div>"
      ],
      "text/plain": [
       "      overall  \\\n",
       "1189      3.0   \n",
       "2457      5.0   \n",
       "\n",
       "                                                                                                                                                                                                                                                                                                                                                                                                                                                                                                                                                                                                                                                                                                                                                                                                                                                                                                                                                                                                                                                                                                                                                                                                                                                                                                                                                                                                                                                                                                                                                                                                                                                                                                reviewText  \\\n",
       "1189  Far Cry 4 does not disappoint.  I'm only about 20 hours in to the game and am loving it.  If you played Far Cry 3, this game follows pretty much the same formula, with a few very cool changes and additions.\\n\\nUpdate 12/14 - I've been playing this game for 3 weeks now, probably 40-50 hours (which tells you that despite my complaints, it's still well worth the money)....I love the game, and have finished all the \"normal world\" missions. But the Shangri-La missions are maddingly annoying frustrating escapades.  You are only armed with a bow and arrow, and the save or check points are few and far between.  The 4th and last mission has me so frustrated that I'm thinking I'm just not going to worry about finishing it:  you have to hit a big \"phoenix\" bird perfectly in the mouth a number of times, then order a magic tiger to attack it, then hit it in the mouth again.  Then you have to repeat the process - ? - not sure how many times, because I keep getting killed by its minions before I can finish it. And then the whole process starts from the beginning.  WTF.\\n\\nIt's almost like the Shangri-La missions were not designed by the same person that did the rest of the game.\\n\\nIn addition, now that I have opened up the entire map, I find that the lack of availability of the helicopters is quite annoying.  Yeah, it's great that this is such a HUGE world, but exploring it by car takes forever!  And fast tracking to a known helicopter location and then flying all the way back takes almost as long.  I originally gave the game 5 stars, but have knocked it down to 3 because of the Shangri-La mess and the lack of helicopters.   \n",
       "2457                                                                                                                                                                                                                                                                                                                                                                                                                                                                                                                                                                                                                                                                                                                                                                                                                                                                                                                                                                                                                                                                                                                                                                                                                                                                                                                                                                                                                                                                                                                                                                                                                                                                                       we loved it!!!!   \n",
       "\n",
       "      lemmas_sentiment_score  stem_sentiment_score  \n",
       "1189                   0.500                  -1.5  \n",
       "2457                   0.625                   0.5  "
      ]
     },
     "execution_count": 254,
     "metadata": {},
     "output_type": "execute_result"
    }
   ],
   "source": [
    "reviews[['overall', 'reviewText', 'lemmas_sentiment_score', 'stem_sentiment_score']].sample(2)"
   ]
  },
  {
   "cell_type": "markdown",
   "metadata": {},
   "source": [
    "## Ploting the results"
   ]
  },
  {
   "cell_type": "code",
   "execution_count": 268,
   "metadata": {},
   "outputs": [],
   "source": [
    "reviews['lemmas_swn_sentiment'] = reviews['lemmas_sentiment_score'].apply(lambda x: \"positive\" if x>1 else (\"negative\" if x<0.5 else \"neutral\"))\n",
    "\n",
    "reviews['tokens_stemmed_swn_sentiment'] = reviews['stem_sentiment_score'].apply(lambda x: \"positive\" if x>1 else (\"negative\" if x<0.5 else \"neutral\"))"
   ]
  },
  {
   "cell_type": "code",
   "execution_count": 275,
   "metadata": {},
   "outputs": [
    {
     "data": {
      "text/plain": [
       "Text(0.5, 1.0, 'stemmed')"
      ]
     },
     "execution_count": 275,
     "metadata": {},
     "output_type": "execute_result"
    },
    {
     "data": {
      "image/png": "[encoded data removed]",
      "text/plain": [
       "<Figure size 1200x400 with 2 Axes>"
      ]
     },
     "metadata": {},
     "output_type": "display_data"
    }
   ],
   "source": [
    "from matplotlib import pyplot as plt\n",
    "import seaborn as sns\n",
    "\n",
    "fig, (ax1, ax2) = plt.subplots(1, 2, figsize=(12, 4))\n",
    "\n",
    "sns.countplot(x='overall', hue='lemmas_swn_sentiment' ,data = reviews, ax=ax1)\n",
    "ax1.set_title('lemmas')\n",
    "\n",
    "sns.countplot(x='overall', hue='tokens_stemmed_swn_sentiment' ,data = reviews, ax=ax2)\n",
    "ax2.set_title('stemmed')"
   ]
  }
 ],
 "metadata": {
  "kernelspec": {
   "display_name": "venv",
   "language": "python",
   "name": "python3"
  },
  "language_info": {
   "codemirror_mode": {
    "name": "ipython",
    "version": 3
   },
   "file_extension": ".py",
   "mimetype": "text/x-python",
   "name": "python",
   "nbconvert_exporter": "python",
   "pygments_lexer": "ipython3",
   "version": "3.11.7"
  }
 },
 "nbformat": 4,
 "nbformat_minor": 2
}
